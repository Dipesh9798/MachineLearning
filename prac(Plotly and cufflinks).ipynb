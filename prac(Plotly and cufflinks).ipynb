{
 "cells": [
  {
   "cell_type": "code",
   "execution_count": 21,
   "id": "359a8f7b-8c19-4295-9252-2efd0c689e56",
   "metadata": {},
   "outputs": [],
   "source": [
    "import numpy as np\n",
    "import pandas as pd\n",
    "%matplotlib inline"
   ]
  },
  {
   "cell_type": "code",
   "execution_count": 7,
   "id": "61c25eb9-203e-4f77-beb3-b9258dc7050f",
   "metadata": {},
   "outputs": [],
   "source": [
    "from plotly import __version__"
   ]
  },
  {
   "cell_type": "code",
   "execution_count": 8,
   "id": "9b3b5a0f-7161-456a-9118-9f48d5e3eb56",
   "metadata": {},
   "outputs": [],
   "source": [
    "import cufflinks as cf"
   ]
  },
  {
   "cell_type": "code",
   "execution_count": 9,
   "id": "e6b695ef-0af8-4032-b228-61dc532d06fb",
   "metadata": {},
   "outputs": [],
   "source": [
    "from plotly.offline import download_plotlyjs,init_notebook_mode,plot,iplot"
   ]
  },
  {
   "cell_type": "code",
   "execution_count": 10,
   "id": "e0068898-4cb0-4aa7-8f43-e4a5612a86ed",
   "metadata": {},
   "outputs": [
    {
     "data": {
      "text/html": [
       "        <script type=\"text/javascript\">\n",
       "        window.PlotlyConfig = {MathJaxConfig: 'local'};\n",
       "        if (window.MathJax) {MathJax.Hub.Config({SVG: {font: \"STIX-Web\"}});}\n",
       "        if (typeof require !== 'undefined') {\n",
       "        require.undef(\"plotly\");\n",
       "        requirejs.config({\n",
       "            paths: {\n",
       "                'plotly': ['https://cdn.plot.ly/plotly-latest.min']\n",
       "            }\n",
       "        });\n",
       "        require(['plotly'], function(Plotly) {\n",
       "            window._Plotly = Plotly;\n",
       "        });\n",
       "        }\n",
       "        </script>\n",
       "        "
      ]
     },
     "metadata": {},
     "output_type": "display_data"
    }
   ],
   "source": [
    "init_notebook_mode(connected=True)"
   ]
  },
  {
   "cell_type": "code",
   "execution_count": 11,
   "id": "dde1a62e-eed0-4bfb-b276-4352d6ce0e78",
   "metadata": {},
   "outputs": [
    {
     "data": {
      "text/html": [
       "        <script type=\"text/javascript\">\n",
       "        window.PlotlyConfig = {MathJaxConfig: 'local'};\n",
       "        if (window.MathJax) {MathJax.Hub.Config({SVG: {font: \"STIX-Web\"}});}\n",
       "        if (typeof require !== 'undefined') {\n",
       "        require.undef(\"plotly\");\n",
       "        requirejs.config({\n",
       "            paths: {\n",
       "                'plotly': ['https://cdn.plot.ly/plotly-latest.min']\n",
       "            }\n",
       "        });\n",
       "        require(['plotly'], function(Plotly) {\n",
       "            window._Plotly = Plotly;\n",
       "        });\n",
       "        }\n",
       "        </script>\n",
       "        "
      ]
     },
     "metadata": {},
     "output_type": "display_data"
    }
   ],
   "source": [
    "cf.go_offline()"
   ]
  },
  {
   "cell_type": "code",
   "execution_count": 12,
   "id": "6316d84d-522b-40af-9c72-64f2b807ad44",
   "metadata": {},
   "outputs": [],
   "source": [
    "#Data\n",
    "df=pd.DataFrame(np.random.randn(100,4),columns='A B C D'.split())"
   ]
  },
  {
   "cell_type": "code",
   "execution_count": 13,
   "id": "f5d4d29f-74e8-4c0c-92a4-af149b9bd643",
   "metadata": {},
   "outputs": [
    {
     "data": {
      "text/html": [
       "<div>\n",
       "<style scoped>\n",
       "    .dataframe tbody tr th:only-of-type {\n",
       "        vertical-align: middle;\n",
       "    }\n",
       "\n",
       "    .dataframe tbody tr th {\n",
       "        vertical-align: top;\n",
       "    }\n",
       "\n",
       "    .dataframe thead th {\n",
       "        text-align: right;\n",
       "    }\n",
       "</style>\n",
       "<table border=\"1\" class=\"dataframe\">\n",
       "  <thead>\n",
       "    <tr style=\"text-align: right;\">\n",
       "      <th></th>\n",
       "      <th>A</th>\n",
       "      <th>B</th>\n",
       "      <th>C</th>\n",
       "      <th>D</th>\n",
       "    </tr>\n",
       "  </thead>\n",
       "  <tbody>\n",
       "    <tr>\n",
       "      <th>0</th>\n",
       "      <td>-0.861013</td>\n",
       "      <td>0.565049</td>\n",
       "      <td>-0.476434</td>\n",
       "      <td>-0.810873</td>\n",
       "    </tr>\n",
       "    <tr>\n",
       "      <th>1</th>\n",
       "      <td>0.162538</td>\n",
       "      <td>0.233603</td>\n",
       "      <td>-0.379597</td>\n",
       "      <td>-0.326744</td>\n",
       "    </tr>\n",
       "    <tr>\n",
       "      <th>2</th>\n",
       "      <td>-1.065701</td>\n",
       "      <td>-0.529002</td>\n",
       "      <td>-0.320800</td>\n",
       "      <td>1.228707</td>\n",
       "    </tr>\n",
       "    <tr>\n",
       "      <th>3</th>\n",
       "      <td>-1.496715</td>\n",
       "      <td>1.207163</td>\n",
       "      <td>0.989295</td>\n",
       "      <td>-0.359110</td>\n",
       "    </tr>\n",
       "    <tr>\n",
       "      <th>4</th>\n",
       "      <td>-1.621867</td>\n",
       "      <td>0.204734</td>\n",
       "      <td>1.130514</td>\n",
       "      <td>-0.548602</td>\n",
       "    </tr>\n",
       "  </tbody>\n",
       "</table>\n",
       "</div>"
      ],
      "text/plain": [
       "          A         B         C         D\n",
       "0 -0.861013  0.565049 -0.476434 -0.810873\n",
       "1  0.162538  0.233603 -0.379597 -0.326744\n",
       "2 -1.065701 -0.529002 -0.320800  1.228707\n",
       "3 -1.496715  1.207163  0.989295 -0.359110\n",
       "4 -1.621867  0.204734  1.130514 -0.548602"
      ]
     },
     "execution_count": 13,
     "metadata": {},
     "output_type": "execute_result"
    }
   ],
   "source": [
    "df.head()"
   ]
  },
  {
   "cell_type": "code",
   "execution_count": 16,
   "id": "9b8127b1-d14e-4ca2-8ed3-672e775787bc",
   "metadata": {},
   "outputs": [],
   "source": [
    "df2=pd.DataFrame({'Category':['A','B','C'],'Values':[32,43,50]})"
   ]
  },
  {
   "cell_type": "code",
   "execution_count": 17,
   "id": "a4366005-8065-40a5-a310-127daafaf0ea",
   "metadata": {},
   "outputs": [
    {
     "data": {
      "text/html": [
       "<div>\n",
       "<style scoped>\n",
       "    .dataframe tbody tr th:only-of-type {\n",
       "        vertical-align: middle;\n",
       "    }\n",
       "\n",
       "    .dataframe tbody tr th {\n",
       "        vertical-align: top;\n",
       "    }\n",
       "\n",
       "    .dataframe thead th {\n",
       "        text-align: right;\n",
       "    }\n",
       "</style>\n",
       "<table border=\"1\" class=\"dataframe\">\n",
       "  <thead>\n",
       "    <tr style=\"text-align: right;\">\n",
       "      <th></th>\n",
       "      <th>Category</th>\n",
       "      <th>Values</th>\n",
       "    </tr>\n",
       "  </thead>\n",
       "  <tbody>\n",
       "    <tr>\n",
       "      <th>0</th>\n",
       "      <td>A</td>\n",
       "      <td>32</td>\n",
       "    </tr>\n",
       "    <tr>\n",
       "      <th>1</th>\n",
       "      <td>B</td>\n",
       "      <td>43</td>\n",
       "    </tr>\n",
       "    <tr>\n",
       "      <th>2</th>\n",
       "      <td>C</td>\n",
       "      <td>50</td>\n",
       "    </tr>\n",
       "  </tbody>\n",
       "</table>\n",
       "</div>"
      ],
      "text/plain": [
       "  Category  Values\n",
       "0        A      32\n",
       "1        B      43\n",
       "2        C      50"
      ]
     },
     "execution_count": 17,
     "metadata": {},
     "output_type": "execute_result"
    }
   ],
   "source": [
    "df2"
   ]
  },
  {
   "cell_type": "code",
   "execution_count": 24,
   "id": "797f32ee-bf69-4aa8-bb7e-e7a378de84e0",
   "metadata": {},
   "outputs": [
    {
     "data": {
      "text/plain": [
       "<AxesSubplot:>"
      ]
     },
     "execution_count": 24,
     "metadata": {},
     "output_type": "execute_result"
    },
    {
     "data": {
      "image/png": "[encoded data removed]",
      "text/plain": [
       "<Figure size 432x288 with 1 Axes>"
      ]
     },
     "metadata": {
      "needs_background": "light"
     },
     "output_type": "display_data"
    }
   ],
   "source": [
    "df.plot()"
   ]
  },
  {
   "cell_type": "code",
   "execution_count": 25,
   "id": "33861206-ef50-4158-9bfc-9e3f1311bc39",
   "metadata": {},
   "outputs": [
    {
     "data": {
      "application/vnd.plotly.v1+json": {
       "config": {
        "linkText": "Export to plot.ly",
        "plotlyServerURL": "https://plot.ly",
        "showLink": true
       },
       "data": [
        {
         "line": {
          "color": "rgba(255, 153, 51, 1.0)",
          "dash": "solid",
          "shape": "linear",
          "width": 1.3
         },
         "mode": "lines",
         "name": "A",
         "text": "",
         "type": "scatter",
         "x": [
          0,
          1,
          2,
          3,
          4,
          5,
          6,
          7,
          8,
          9,
          10,
          11,
          12,
          13,
          14,
          15,
          16,
          17,
          18,
          19,
          20,
          21,
          22,
          23,
          24,
          25,
          26,
          27,
          28,
          29,
          30,
          31,
          32,
          33,
          34,
          35,
          36,
          37,
          38,
          39,
          40,
          41,
          42,
          43,
          44,
          45,
          46,
          47,
          48,
          49,
          50,
          51,
          52,
          53,
          54,
          55,
          56,
          57,
          58,
          59,
          60,
          61,
          62,
          63,
          64,
          65,
          66,
          67,
          68,
          69,
          70,
          71,
          72,
          73,
          74,
          75,
          76,
          77,
          78,
          79,
          80,
          81,
          82,
          83,
          84,
          85,
          86,
          87,
          88,
          89,
          90,
          91,
          92,
          93,
          94,
          95,
          96,
          97,
          98,
          99
         ],
         "y": [
          -0.861012749949445,
          0.1625376192548321,
          -1.0657007353321344,
          -1.4967148234347414,
          -1.6218669902888878,
          0.9183597243850122,
          0.35686650755378896,
          0.9383431393961591,
          -1.5539953476911192,
          1.0712641830485077,
          -0.16823630537322265,
          -0.029809636840512684,
          0.858666427197736,
          -2.045106362467616,
          0.47189504079296485,
          0.866984975177145,
          -0.224169001274327,
          1.24216574402806,
          -0.546817184167797,
          -1.0254166320005358,
          -0.4027102165606964,
          0.3604347623393255,
          0.12359321893539678,
          0.7976490912414896,
          -0.8382374391018872,
          -0.42546323713954876,
          -0.9801037650736125,
          -0.5377148131865659,
          0.526708161581404,
          -0.17921783473941844,
          1.6267200221434617,
          -1.2247584455479994,
          -1.858769487498316,
          0.07083512420219298,
          -0.41125463841390414,
          -0.5242177711684403,
          -0.40580492889981784,
          -1.5609330768129492,
          -0.3465020610293324,
          1.1676701922763209,
          0.9554108962647927,
          0.1776512981211528,
          -1.01887680575504,
          -0.001318330086549038,
          0.025374095615200116,
          -0.7686570747634042,
          0.48692434312264526,
          0.04971506278557161,
          -0.7694403232946906,
          -0.5848016270853913,
          0.3262692077178788,
          -0.6257621300441752,
          -0.24121034483571405,
          -1.3873751067998397,
          -1.8289779164491926,
          -1.1395070156221796,
          1.2430609415979603,
          0.10550224342837905,
          0.20832193891709166,
          0.6692563692870159,
          0.6196345924931004,
          0.5504639472754826,
          0.2045968692644555,
          0.7403295263687308,
          -2.200178217804393,
          -2.2594421616045204,
          -2.2427433291490186,
          0.08715884509758837,
          -0.4783862144819786,
          -0.793746105937038,
          0.3660991486049263,
          -0.7947233435943476,
          0.15639436444001217,
          1.748034526365867,
          1.4877724550239804,
          -0.15817633743928253,
          0.7703662854343081,
          0.823150155315695,
          0.34081962636967444,
          -0.500816416438218,
          0.6958500027627998,
          -0.217618176167064,
          0.060205545646132966,
          1.3300080931441918,
          1.8303245761136935,
          0.10625026467407848,
          0.3766978197087458,
          1.1582094026829597,
          0.2808094278938371,
          0.5456689527413583,
          -0.14167626445501177,
          -0.47255222156816373,
          -0.8922663533120478,
          0.29787142116965465,
          -0.8244682130274689,
          -0.10597856605420314,
          0.12064433106886314,
          -0.30166745329083694,
          -0.4091438252541786,
          1.4292330584811166
         ]
        },
        {
         "line": {
          "color": "rgba(55, 128, 191, 1.0)",
          "dash": "solid",
          "shape": "linear",
          "width": 1.3
         },
         "mode": "lines",
         "name": "B",
         "text": "",
         "type": "scatter",
         "x": [
          0,
          1,
          2,
          3,
          4,
          5,
          6,
          7,
          8,
          9,
          10,
          11,
          12,
          13,
          14,
          15,
          16,
          17,
          18,
          19,
          20,
          21,
          22,
          23,
          24,
          25,
          26,
          27,
          28,
          29,
          30,
          31,
          32,
          33,
          34,
          35,
          36,
          37,
          38,
          39,
          40,
          41,
          42,
          43,
          44,
          45,
          46,
          47,
          48,
          49,
          50,
          51,
          52,
          53,
          54,
          55,
          56,
          57,
          58,
          59,
          60,
          61,
          62,
          63,
          64,
          65,
          66,
          67,
          68,
          69,
          70,
          71,
          72,
          73,
          74,
          75,
          76,
          77,
          78,
          79,
          80,
          81,
          82,
          83,
          84,
          85,
          86,
          87,
          88,
          89,
          90,
          91,
          92,
          93,
          94,
          95,
          96,
          97,
          98,
          99
         ],
         "y": [
          0.565049101811982,
          0.23360252568065235,
          -0.5290024462027993,
          1.2071630629928405,
          0.20473363444062587,
          -1.7778346587555154,
          0.754220562602129,
          0.4783092635552433,
          -0.8713369644651778,
          -1.274568403316767,
          0.35057496872874455,
          0.24042280863287027,
          0.3554710094856653,
          1.3609346002548017,
          0.6834969773469936,
          2.2279217730668037,
          -1.9752218325481121,
          0.7582363826423536,
          0.11717621786157986,
          -0.7516049165113553,
          0.28454106673274643,
          -0.5571943634462339,
          -1.2202608527616055,
          0.03337263572682124,
          0.2840209500525598,
          -0.6338116669328481,
          -0.5007253202745903,
          -0.7612306872223308,
          0.5137730472098095,
          1.105058256068294,
          -0.16752552437693302,
          -0.21916143757212345,
          1.0000934130881995,
          -0.2852356943424372,
          0.06338561587887387,
          -0.4166631261838454,
          0.13149297137159296,
          1.352258144990997,
          -1.1521864995503264,
          1.705422033061085,
          -0.5972386781094926,
          0.0795282423098057,
          1.2922987810292712,
          0.8235647306403423,
          2.3333333644273924,
          -0.3415059830908351,
          -0.057576473950611405,
          0.15695895411321964,
          1.3754938475645933,
          -0.022735589245212014,
          -1.937923858942874,
          -0.8910803497834678,
          0.7549691213780025,
          0.34697753624049255,
          -0.35691467836643226,
          -2.004141094173787,
          -0.17354650300626714,
          -0.06580704058386155,
          1.8787386986634547,
          -0.7677609024831303,
          1.0709027147844579,
          1.000271067408939,
          -0.5981910907104205,
          1.5653866318837393,
          -0.9752981697530304,
          1.049343846049643,
          0.4126501470121756,
          -0.6601470892145542,
          -0.7620235104820939,
          -0.10040239386821737,
          1.571398296520149,
          -0.26490312792810317,
          0.6361128608523463,
          -0.4490985557571813,
          0.5093788605397127,
          0.47449931464497075,
          -0.3249801767162292,
          -0.6503478640781853,
          0.6964644254746731,
          -0.649813251787456,
          1.2273734484867544,
          -1.5028333694329474,
          1.2720216213471196,
          0.2337659252786213,
          -0.010981661759603233,
          -0.38935856096956983,
          0.819159393535985,
          0.05144642082344833,
          0.2585814530664818,
          -0.23202768900199786,
          -0.8069998427660221,
          -1.3258033891378143,
          -1.072264411375237,
          -2.812481155968395,
          1.6130445993890223,
          1.7659929781249923,
          -0.04990766185036657,
          0.8750599230809605,
          0.09806855158123486,
          0.642688358482892
         ]
        },
        {
         "line": {
          "color": "rgba(50, 171, 96, 1.0)",
          "dash": "solid",
          "shape": "linear",
          "width": 1.3
         },
         "mode": "lines",
         "name": "C",
         "text": "",
         "type": "scatter",
         "x": [
          0,
          1,
          2,
          3,
          4,
          5,
          6,
          7,
          8,
          9,
          10,
          11,
          12,
          13,
          14,
          15,
          16,
          17,
          18,
          19,
          20,
          21,
          22,
          23,
          24,
          25,
          26,
          27,
          28,
          29,
          30,
          31,
          32,
          33,
          34,
          35,
          36,
          37,
          38,
          39,
          40,
          41,
          42,
          43,
          44,
          45,
          46,
          47,
          48,
          49,
          50,
          51,
          52,
          53,
          54,
          55,
          56,
          57,
          58,
          59,
          60,
          61,
          62,
          63,
          64,
          65,
          66,
          67,
          68,
          69,
          70,
          71,
          72,
          73,
          74,
          75,
          76,
          77,
          78,
          79,
          80,
          81,
          82,
          83,
          84,
          85,
          86,
          87,
          88,
          89,
          90,
          91,
          92,
          93,
          94,
          95,
          96,
          97,
          98,
          99
         ],
         "y": [
          -0.4764335487957739,
          -0.3795971958521806,
          -0.32080047473824336,
          0.9892951338375285,
          1.130514375944992,
          0.1780627670732518,
          -1.2440346524414072,
          -1.9970788406120892,
          0.7238472092205793,
          -0.16385172461275008,
          -1.647834987793076,
          -0.43493176375108883,
          -0.8052880819683181,
          0.14628607041823055,
          1.1375251156788448,
          0.6886767552007255,
          -0.8665012298307849,
          -0.10785992072447839,
          -0.9290168259976029,
          -0.8794211952884152,
          -1.6957541459454086,
          0.8102692931784256,
          -0.734314901316168,
          -0.4863345882886002,
          0.7035042577577121,
          1.3642458338564403,
          0.2619540179153471,
          0.09475336562121486,
          -0.3378585143284306,
          1.260632825559378,
          -0.5255564838826948,
          -0.5730051837659315,
          0.39592309070488635,
          -0.6070650285295004,
          -0.29851242876799394,
          -0.7606939363100149,
          -0.1760622857637756,
          0.41022784146360575,
          0.17474141507746163,
          -0.4856689743738751,
          -0.49192233167469274,
          0.6673243673507168,
          -0.14537980243660062,
          -0.11313696976308059,
          -1.115457938325341,
          0.7992072121383466,
          0.5251096122314738,
          -1.2043883316184518,
          0.13750165792104693,
          0.40295810322611036,
          0.43310860945789614,
          -1.9007527023082584,
          1.8362139314935926,
          -0.514076557765465,
          -0.3883266658362802,
          1.5192685459377073,
          -1.0641556642603331,
          -0.49902744347492184,
          -0.18100028881969799,
          0.6270683372590663,
          0.004771818389542792,
          -0.07635862907576754,
          0.5028469067076008,
          0.00794854406039471,
          -0.36083911549640085,
          0.08217880657240956,
          -0.3418269920172701,
          0.29921614853605505,
          -0.0434361678175971,
          -1.4710452099922917,
          -0.11740541374071864,
          -0.7152658803700941,
          -1.802979095325114,
          1.7731565353246743,
          1.9033884504920582,
          -0.7987056018292404,
          -1.4337681633988189,
          0.7664886791222912,
          -1.0331130695132456,
          -1.2386257355507573,
          -2.067638776907675,
          -0.9302475341411064,
          1.7969450305496084,
          0.5904056319744532,
          0.9505160064349767,
          -0.7892638458218999,
          0.545344648215091,
          0.524142226279351,
          -1.9994868632076523,
          -0.9089618872355718,
          -0.5782177784156387,
          -0.20377501773609014,
          -0.673490666174473,
          0.6431925747022802,
          -0.9814571021958928,
          -0.011543623559877822,
          -0.5345522926070283,
          0.5466319802390807,
          -0.44943171173770713,
          0.7026929515657784
         ]
        },
        {
         "line": {
          "color": "rgba(128, 0, 128, 1.0)",
          "dash": "solid",
          "shape": "linear",
          "width": 1.3
         },
         "mode": "lines",
         "name": "D",
         "text": "",
         "type": "scatter",
         "x": [
          0,
          1,
          2,
          3,
          4,
          5,
          6,
          7,
          8,
          9,
          10,
          11,
          12,
          13,
          14,
          15,
          16,
          17,
          18,
          19,
          20,
          21,
          22,
          23,
          24,
          25,
          26,
          27,
          28,
          29,
          30,
          31,
          32,
          33,
          34,
          35,
          36,
          37,
          38,
          39,
          40,
          41,
          42,
          43,
          44,
          45,
          46,
          47,
          48,
          49,
          50,
          51,
          52,
          53,
          54,
          55,
          56,
          57,
          58,
          59,
          60,
          61,
          62,
          63,
          64,
          65,
          66,
          67,
          68,
          69,
          70,
          71,
          72,
          73,
          74,
          75,
          76,
          77,
          78,
          79,
          80,
          81,
          82,
          83,
          84,
          85,
          86,
          87,
          88,
          89,
          90,
          91,
          92,
          93,
          94,
          95,
          96,
          97,
          98,
          99
         ],
         "y": [
          -0.8108733386276717,
          -0.32674402890407467,
          1.228706773710295,
          -0.3591097429962623,
          -0.5486018885788576,
          0.7827564873278484,
          0.8053184726769173,
          -0.6926437004990129,
          1.9969984708380815,
          -0.2605184510597991,
          0.15021926472459407,
          0.44767435292217866,
          1.4046073633781655,
          -0.26594558514423816,
          -0.5891922606847505,
          0.3247480166766146,
          0.11752246126000594,
          0.7305957564780715,
          -0.6359242814882128,
          0.7021692456801546,
          -1.2209582395254233,
          0.08454648974933765,
          0.4605108009418544,
          0.30703791943754666,
          -0.20023971633193313,
          1.0161729538485171,
          -0.9315079577760803,
          -0.10405025848648121,
          0.24563279174136474,
          1.222781994208815,
          2.4361366375246187,
          0.7266015566825794,
          1.2232053714227837,
          0.1404099461243569,
          1.7194192978370169,
          -0.36490440349633924,
          -0.523566199272344,
          0.23155106092219366,
          1.9003294901653152,
          -0.3215846596079453,
          -0.5174787598350311,
          0.10571033587829666,
          -0.12602622731908678,
          -0.6642724678806,
          -0.5696788224002025,
          0.26055788433591764,
          -0.6717904493727052,
          0.07354790471853982,
          0.9549236893625606,
          -1.4673546576276664,
          0.9103156967659057,
          0.472537766491254,
          0.2446748423864958,
          0.9968119622902851,
          1.0216465775066863,
          -0.6894518612168276,
          -0.08138307160192398,
          -0.7527711599812614,
          -1.7318932212106817,
          0.16862044058883635,
          -0.7241531513982364,
          -0.32052581939975183,
          -0.4102057066250018,
          0.6754798655617502,
          -0.07557302466458257,
          0.4581732404356903,
          0.6938961359708578,
          0.26413063243496854,
          0.6522985089539534,
          1.2294074301139584,
          -0.6695748756586726,
          -0.802276798659537,
          -0.13530456386866632,
          -0.7099021302722817,
          -0.9038360032361807,
          -1.5537335366966882,
          -0.08503274564637163,
          1.2401907010404023,
          -0.020566031072199845,
          -2.654264469837588,
          -1.3657453986362798,
          -0.01873319421953084,
          -0.37386180411741465,
          1.3796397671452991,
          1.32750589087681,
          1.10278390369056,
          -0.3753681062826079,
          0.012234302734607991,
          1.1874207243670505,
          0.990411152611453,
          -0.2798440478619932,
          0.41390821587807114,
          0.06718097168612086,
          0.4810511418209167,
          1.9223108018308028,
          -1.1461884740293269,
          -0.2103568763845942,
          -0.4569982457798271,
          0.384472849618003,
          -0.1581628026535627
         ]
        }
       ],
       "layout": {
        "legend": {
         "bgcolor": "#F5F6F9",
         "font": {
          "color": "#4D5663"
         }
        },
        "paper_bgcolor": "#F5F6F9",
        "plot_bgcolor": "#F5F6F9",
        "template": {
         "data": {
          "bar": [
           {
            "error_x": {
             "color": "#2a3f5f"
            },
            "error_y": {
             "color": "#2a3f5f"
            },
            "marker": {
             "line": {
              "color": "#E5ECF6",
              "width": 0.5
             }
            },
            "type": "bar"
           }
          ],
          "barpolar": [
           {
            "marker": {
             "line": {
              "color": "#E5ECF6",
              "width": 0.5
             }
            },
            "type": "barpolar"
           }
          ],
          "carpet": [
           {
            "aaxis": {
             "endlinecolor": "#2a3f5f",
             "gridcolor": "white",
             "linecolor": "white",
             "minorgridcolor": "white",
             "startlinecolor": "#2a3f5f"
            },
            "baxis": {
             "endlinecolor": "#2a3f5f",
             "gridcolor": "white",
             "linecolor": "white",
             "minorgridcolor": "white",
             "startlinecolor": "#2a3f5f"
            },
            "type": "carpet"
           }
          ],
          "choropleth": [
           {
            "colorbar": {
             "outlinewidth": 0,
             "ticks": ""
            },
            "type": "choropleth"
           }
          ],
          "contour": [
           {
            "colorbar": {
             "outlinewidth": 0,
             "ticks": ""
            },
            "colorscale": [
             [
              0,
              "#0d0887"
             ],
             [
              0.1111111111111111,
              "#46039f"
             ],
             [
              0.2222222222222222,
              "#7201a8"
             ],
             [
              0.3333333333333333,
              "#9c179e"
             ],
             [
              0.4444444444444444,
              "#bd3786"
             ],
             [
              0.5555555555555556,
              "#d8576b"
             ],
             [
              0.6666666666666666,
              "#ed7953"
             ],
             [
              0.7777777777777778,
              "#fb9f3a"
             ],
             [
              0.8888888888888888,
              "#fdca26"
             ],
             [
              1,
              "#f0f921"
             ]
            ],
            "type": "contour"
           }
          ],
          "contourcarpet": [
           {
            "colorbar": {
             "outlinewidth": 0,
             "ticks": ""
            },
            "type": "contourcarpet"
           }
          ],
          "heatmap": [
           {
            "colorbar": {
             "outlinewidth": 0,
             "ticks": ""
            },
            "colorscale": [
             [
              0,
              "#0d0887"
             ],
             [
              0.1111111111111111,
              "#46039f"
             ],
             [
              0.2222222222222222,
              "#7201a8"
             ],
             [
              0.3333333333333333,
              "#9c179e"
             ],
             [
              0.4444444444444444,
              "#bd3786"
             ],
             [
              0.5555555555555556,
              "#d8576b"
             ],
             [
              0.6666666666666666,
              "#ed7953"
             ],
             [
              0.7777777777777778,
              "#fb9f3a"
             ],
             [
              0.8888888888888888,
              "#fdca26"
             ],
             [
              1,
              "#f0f921"
             ]
            ],
            "type": "heatmap"
           }
          ],
          "heatmapgl": [
           {
            "colorbar": {
             "outlinewidth": 0,
             "ticks": ""
            },
            "colorscale": [
             [
              0,
              "#0d0887"
             ],
             [
              0.1111111111111111,
              "#46039f"
             ],
             [
              0.2222222222222222,
              "#7201a8"
             ],
             [
              0.3333333333333333,
              "#9c179e"
             ],
             [
              0.4444444444444444,
              "#bd3786"
             ],
             [
              0.5555555555555556,
              "#d8576b"
             ],
             [
              0.6666666666666666,
              "#ed7953"
             ],
             [
              0.7777777777777778,
              "#fb9f3a"
             ],
             [
              0.8888888888888888,
              "#fdca26"
             ],
             [
              1,
              "#f0f921"
             ]
            ],
            "type": "heatmapgl"
           }
          ],
          "histogram": [
           {
            "marker": {
             "colorbar": {
              "outlinewidth": 0,
              "ticks": ""
             }
            },
            "type": "histogram"
           }
          ],
          "histogram2d": [
           {
            "colorbar": {
             "outlinewidth": 0,
             "ticks": ""
            },
            "colorscale": [
             [
              0,
              "#0d0887"
             ],
             [
              0.1111111111111111,
              "#46039f"
             ],
             [
              0.2222222222222222,
              "#7201a8"
             ],
             [
              0.3333333333333333,
              "#9c179e"
             ],
             [
              0.4444444444444444,
              "#bd3786"
             ],
             [
              0.5555555555555556,
              "#d8576b"
             ],
             [
              0.6666666666666666,
              "#ed7953"
             ],
             [
              0.7777777777777778,
              "#fb9f3a"
             ],
             [
              0.8888888888888888,
              "#fdca26"
             ],
             [
              1,
              "#f0f921"
             ]
            ],
            "type": "histogram2d"
           }
          ],
          "histogram2dcontour": [
           {
            "colorbar": {
             "outlinewidth": 0,
             "ticks": ""
            },
            "colorscale": [
             [
              0,
              "#0d0887"
             ],
             [
              0.1111111111111111,
              "#46039f"
             ],
             [
              0.2222222222222222,
              "#7201a8"
             ],
             [
              0.3333333333333333,
              "#9c179e"
             ],
             [
              0.4444444444444444,
              "#bd3786"
             ],
             [
              0.5555555555555556,
              "#d8576b"
             ],
             [
              0.6666666666666666,
              "#ed7953"
             ],
             [
              0.7777777777777778,
              "#fb9f3a"
             ],
             [
              0.8888888888888888,
              "#fdca26"
             ],
             [
              1,
              "#f0f921"
             ]
            ],
            "type": "histogram2dcontour"
           }
          ],
          "mesh3d": [
           {
            "colorbar": {
             "outlinewidth": 0,
             "ticks": ""
            },
            "type": "mesh3d"
           }
          ],
          "parcoords": [
           {
            "line": {
             "colorbar": {
              "outlinewidth": 0,
              "ticks": ""
             }
            },
            "type": "parcoords"
           }
          ],
          "pie": [
           {
            "automargin": true,
            "type": "pie"
           }
          ],
          "scatter": [
           {
            "marker": {
             "colorbar": {
              "outlinewidth": 0,
              "ticks": ""
             }
            },
            "type": "scatter"
           }
          ],
          "scatter3d": [
           {
            "line": {
             "colorbar": {
              "outlinewidth": 0,
              "ticks": ""
             }
            },
            "marker": {
             "colorbar": {
              "outlinewidth": 0,
              "ticks": ""
             }
            },
            "type": "scatter3d"
           }
          ],
          "scattercarpet": [
           {
            "marker": {
             "colorbar": {
              "outlinewidth": 0,
              "ticks": ""
             }
            },
            "type": "scattercarpet"
           }
          ],
          "scattergeo": [
           {
            "marker": {
             "colorbar": {
              "outlinewidth": 0,
              "ticks": ""
             }
            },
            "type": "scattergeo"
           }
          ],
          "scattergl": [
           {
            "marker": {
             "colorbar": {
              "outlinewidth": 0,
              "ticks": ""
             }
            },
            "type": "scattergl"
           }
          ],
          "scattermapbox": [
           {
            "marker": {
             "colorbar": {
              "outlinewidth": 0,
              "ticks": ""
             }
            },
            "type": "scattermapbox"
           }
          ],
          "scatterpolar": [
           {
            "marker": {
             "colorbar": {
              "outlinewidth": 0,
              "ticks": ""
             }
            },
            "type": "scatterpolar"
           }
          ],
          "scatterpolargl": [
           {
            "marker": {
             "colorbar": {
              "outlinewidth": 0,
              "ticks": ""
             }
            },
            "type": "scatterpolargl"
           }
          ],
          "scatterternary": [
           {
            "marker": {
             "colorbar": {
              "outlinewidth": 0,
              "ticks": ""
             }
            },
            "type": "scatterternary"
           }
          ],
          "surface": [
           {
            "colorbar": {
             "outlinewidth": 0,
             "ticks": ""
            },
            "colorscale": [
             [
              0,
              "#0d0887"
             ],
             [
              0.1111111111111111,
              "#46039f"
             ],
             [
              0.2222222222222222,
              "#7201a8"
             ],
             [
              0.3333333333333333,
              "#9c179e"
             ],
             [
              0.4444444444444444,
              "#bd3786"
             ],
             [
              0.5555555555555556,
              "#d8576b"
             ],
             [
              0.6666666666666666,
              "#ed7953"
             ],
             [
              0.7777777777777778,
              "#fb9f3a"
             ],
             [
              0.8888888888888888,
              "#fdca26"
             ],
             [
              1,
              "#f0f921"
             ]
            ],
            "type": "surface"
           }
          ],
          "table": [
           {
            "cells": {
             "fill": {
              "color": "#EBF0F8"
             },
             "line": {
              "color": "white"
             }
            },
            "header": {
             "fill": {
              "color": "#C8D4E3"
             },
             "line": {
              "color": "white"
             }
            },
            "type": "table"
           }
          ]
         },
         "layout": {
          "annotationdefaults": {
           "arrowcolor": "#2a3f5f",
           "arrowhead": 0,
           "arrowwidth": 1
          },
          "autotypenumbers": "strict",
          "coloraxis": {
           "colorbar": {
            "outlinewidth": 0,
            "ticks": ""
           }
          },
          "colorscale": {
           "diverging": [
            [
             0,
             "#8e0152"
            ],
            [
             0.1,
             "#c51b7d"
            ],
            [
             0.2,
             "#de77ae"
            ],
            [
             0.3,
             "#f1b6da"
            ],
            [
             0.4,
             "#fde0ef"
            ],
            [
             0.5,
             "#f7f7f7"
            ],
            [
             0.6,
             "#e6f5d0"
            ],
            [
             0.7,
             "#b8e186"
            ],
            [
             0.8,
             "#7fbc41"
            ],
            [
             0.9,
             "#4d9221"
            ],
            [
             1,
             "#276419"
            ]
           ],
           "sequential": [
            [
             0,
             "#0d0887"
            ],
            [
             0.1111111111111111,
             "#46039f"
            ],
            [
             0.2222222222222222,
             "#7201a8"
            ],
            [
             0.3333333333333333,
             "#9c179e"
            ],
            [
             0.4444444444444444,
             "#bd3786"
            ],
            [
             0.5555555555555556,
             "#d8576b"
            ],
            [
             0.6666666666666666,
             "#ed7953"
            ],
            [
             0.7777777777777778,
             "#fb9f3a"
            ],
            [
             0.8888888888888888,
             "#fdca26"
            ],
            [
             1,
             "#f0f921"
            ]
           ],
           "sequentialminus": [
            [
             0,
             "#0d0887"
            ],
            [
             0.1111111111111111,
             "#46039f"
            ],
            [
             0.2222222222222222,
             "#7201a8"
            ],
            [
             0.3333333333333333,
             "#9c179e"
            ],
            [
             0.4444444444444444,
             "#bd3786"
            ],
            [
             0.5555555555555556,
             "#d8576b"
            ],
            [
             0.6666666666666666,
             "#ed7953"
            ],
            [
             0.7777777777777778,
             "#fb9f3a"
            ],
            [
             0.8888888888888888,
             "#fdca26"
            ],
            [
             1,
             "#f0f921"
            ]
           ]
          },
          "colorway": [
           "#636efa",
           "#EF553B",
           "#00cc96",
           "#ab63fa",
           "#FFA15A",
           "#19d3f3",
           "#FF6692",
           "#B6E880",
           "#FF97FF",
           "#FECB52"
          ],
          "font": {
           "color": "#2a3f5f"
          },
          "geo": {
           "bgcolor": "white",
           "lakecolor": "white",
           "landcolor": "#E5ECF6",
           "showlakes": true,
           "showland": true,
           "subunitcolor": "white"
          },
          "hoverlabel": {
           "align": "left"
          },
          "hovermode": "closest",
          "mapbox": {
           "style": "light"
          },
          "paper_bgcolor": "white",
          "plot_bgcolor": "#E5ECF6",
          "polar": {
           "angularaxis": {
            "gridcolor": "white",
            "linecolor": "white",
            "ticks": ""
           },
           "bgcolor": "#E5ECF6",
           "radialaxis": {
            "gridcolor": "white",
            "linecolor": "white",
            "ticks": ""
           }
          },
          "scene": {
           "xaxis": {
            "backgroundcolor": "#E5ECF6",
            "gridcolor": "white",
            "gridwidth": 2,
            "linecolor": "white",
            "showbackground": true,
            "ticks": "",
            "zerolinecolor": "white"
           },
           "yaxis": {
            "backgroundcolor": "#E5ECF6",
            "gridcolor": "white",
            "gridwidth": 2,
            "linecolor": "white",
            "showbackground": true,
            "ticks": "",
            "zerolinecolor": "white"
           },
           "zaxis": {
            "backgroundcolor": "#E5ECF6",
            "gridcolor": "white",
            "gridwidth": 2,
            "linecolor": "white",
            "showbackground": true,
            "ticks": "",
            "zerolinecolor": "white"
           }
          },
          "shapedefaults": {
           "line": {
            "color": "#2a3f5f"
           }
          },
          "ternary": {
           "aaxis": {
            "gridcolor": "white",
            "linecolor": "white",
            "ticks": ""
           },
           "baxis": {
            "gridcolor": "white",
            "linecolor": "white",
            "ticks": ""
           },
           "bgcolor": "#E5ECF6",
           "caxis": {
            "gridcolor": "white",
            "linecolor": "white",
            "ticks": ""
           }
          },
          "title": {
           "x": 0.05
          },
          "xaxis": {
           "automargin": true,
           "gridcolor": "white",
           "linecolor": "white",
           "ticks": "",
           "title": {
            "standoff": 15
           },
           "zerolinecolor": "white",
           "zerolinewidth": 2
          },
          "yaxis": {
           "automargin": true,
           "gridcolor": "white",
           "linecolor": "white",
           "ticks": "",
           "title": {
            "standoff": 15
           },
           "zerolinecolor": "white",
           "zerolinewidth": 2
          }
         }
        },
        "title": {
         "font": {
          "color": "#4D5663"
         }
        },
        "xaxis": {
         "gridcolor": "#E1E5ED",
         "showgrid": true,
         "tickfont": {
          "color": "#4D5663"
         },
         "title": {
          "font": {
           "color": "#4D5663"
          },
          "text": ""
         },
         "zerolinecolor": "#E1E5ED"
        },
        "yaxis": {
         "gridcolor": "#E1E5ED",
         "showgrid": true,
         "tickfont": {
          "color": "#4D5663"
         },
         "title": {
          "font": {
           "color": "#4D5663"
          },
          "text": ""
         },
         "zerolinecolor": "#E1E5ED"
        }
       }
      },
      "text/html": [
       "<div>                            <div id=\"df8cdba2-c8f0-4b90-ab27-4e28a355cd38\" class=\"plotly-graph-div\" style=\"height:525px; width:100%;\"></div>            <script type=\"text/javascript\">                require([\"plotly\"], function(Plotly) {                    window.PLOTLYENV=window.PLOTLYENV || {};\n",
       "                    window.PLOTLYENV.BASE_URL='https://plot.ly';                                    if (document.getElementById(\"df8cdba2-c8f0-4b90-ab27-4e28a355cd38\")) {                    Plotly.newPlot(                        \"df8cdba2-c8f0-4b90-ab27-4e28a355cd38\",                        [{\"line\": {\"color\": \"rgba(255, 153, 51, 1.0)\", \"dash\": \"solid\", \"shape\": \"linear\", \"width\": 1.3}, \"mode\": \"lines\", \"name\": \"A\", \"text\": \"\", \"type\": \"scatter\", \"x\": [0, 1, 2, 3, 4, 5, 6, 7, 8, 9, 10, 11, 12, 13, 14, 15, 16, 17, 18, 19, 20, 21, 22, 23, 24, 25, 26, 27, 28, 29, 30, 31, 32, 33, 34, 35, 36, 37, 38, 39, 40, 41, 42, 43, 44, 45, 46, 47, 48, 49, 50, 51, 52, 53, 54, 55, 56, 57, 58, 59, 60, 61, 62, 63, 64, 65, 66, 67, 68, 69, 70, 71, 72, 73, 74, 75, 76, 77, 78, 79, 80, 81, 82, 83, 84, 85, 86, 87, 88, 89, 90, 91, 92, 93, 94, 95, 96, 97, 98, 99], \"y\": [-0.861012749949445, 0.1625376192548321, -1.0657007353321344, -1.4967148234347414, -1.6218669902888878, 0.9183597243850122, 0.35686650755378896, 0.9383431393961591, -1.5539953476911192, 1.0712641830485077, -0.16823630537322265, -0.029809636840512684, 0.858666427197736, -2.045106362467616, 0.47189504079296485, 0.866984975177145, -0.224169001274327, 1.24216574402806, -0.546817184167797, -1.0254166320005358, -0.4027102165606964, 0.3604347623393255, 0.12359321893539678, 0.7976490912414896, -0.8382374391018872, -0.42546323713954876, -0.9801037650736125, -0.5377148131865659, 0.526708161581404, -0.17921783473941844, 1.6267200221434617, -1.2247584455479994, -1.858769487498316, 0.07083512420219298, -0.41125463841390414, -0.5242177711684403, -0.40580492889981784, -1.5609330768129492, -0.3465020610293324, 1.1676701922763209, 0.9554108962647927, 0.1776512981211528, -1.01887680575504, -0.001318330086549038, 0.025374095615200116, -0.7686570747634042, 0.48692434312264526, 0.04971506278557161, -0.7694403232946906, -0.5848016270853913, 0.3262692077178788, -0.6257621300441752, -0.24121034483571405, -1.3873751067998397, -1.8289779164491926, -1.1395070156221796, 1.2430609415979603, 0.10550224342837905, 0.20832193891709166, 0.6692563692870159, 0.6196345924931004, 0.5504639472754826, 0.2045968692644555, 0.7403295263687308, -2.200178217804393, -2.2594421616045204, -2.2427433291490186, 0.08715884509758837, -0.4783862144819786, -0.793746105937038, 0.3660991486049263, -0.7947233435943476, 0.15639436444001217, 1.748034526365867, 1.4877724550239804, -0.15817633743928253, 0.7703662854343081, 0.823150155315695, 0.34081962636967444, -0.500816416438218, 0.6958500027627998, -0.217618176167064, 0.060205545646132966, 1.3300080931441918, 1.8303245761136935, 0.10625026467407848, 0.3766978197087458, 1.1582094026829597, 0.2808094278938371, 0.5456689527413583, -0.14167626445501177, -0.47255222156816373, -0.8922663533120478, 0.29787142116965465, -0.8244682130274689, -0.10597856605420314, 0.12064433106886314, -0.30166745329083694, -0.4091438252541786, 1.4292330584811166]}, {\"line\": {\"color\": \"rgba(55, 128, 191, 1.0)\", \"dash\": \"solid\", \"shape\": \"linear\", \"width\": 1.3}, \"mode\": \"lines\", \"name\": \"B\", \"text\": \"\", \"type\": \"scatter\", \"x\": [0, 1, 2, 3, 4, 5, 6, 7, 8, 9, 10, 11, 12, 13, 14, 15, 16, 17, 18, 19, 20, 21, 22, 23, 24, 25, 26, 27, 28, 29, 30, 31, 32, 33, 34, 35, 36, 37, 38, 39, 40, 41, 42, 43, 44, 45, 46, 47, 48, 49, 50, 51, 52, 53, 54, 55, 56, 57, 58, 59, 60, 61, 62, 63, 64, 65, 66, 67, 68, 69, 70, 71, 72, 73, 74, 75, 76, 77, 78, 79, 80, 81, 82, 83, 84, 85, 86, 87, 88, 89, 90, 91, 92, 93, 94, 95, 96, 97, 98, 99], \"y\": [0.565049101811982, 0.23360252568065235, -0.5290024462027993, 1.2071630629928405, 0.20473363444062587, -1.7778346587555154, 0.754220562602129, 0.4783092635552433, -0.8713369644651778, -1.274568403316767, 0.35057496872874455, 0.24042280863287027, 0.3554710094856653, 1.3609346002548017, 0.6834969773469936, 2.2279217730668037, -1.9752218325481121, 0.7582363826423536, 0.11717621786157986, -0.7516049165113553, 0.28454106673274643, -0.5571943634462339, -1.2202608527616055, 0.03337263572682124, 0.2840209500525598, -0.6338116669328481, -0.5007253202745903, -0.7612306872223308, 0.5137730472098095, 1.105058256068294, -0.16752552437693302, -0.21916143757212345, 1.0000934130881995, -0.2852356943424372, 0.06338561587887387, -0.4166631261838454, 0.13149297137159296, 1.352258144990997, -1.1521864995503264, 1.705422033061085, -0.5972386781094926, 0.0795282423098057, 1.2922987810292712, 0.8235647306403423, 2.3333333644273924, -0.3415059830908351, -0.057576473950611405, 0.15695895411321964, 1.3754938475645933, -0.022735589245212014, -1.937923858942874, -0.8910803497834678, 0.7549691213780025, 0.34697753624049255, -0.35691467836643226, -2.004141094173787, -0.17354650300626714, -0.06580704058386155, 1.8787386986634547, -0.7677609024831303, 1.0709027147844579, 1.000271067408939, -0.5981910907104205, 1.5653866318837393, -0.9752981697530304, 1.049343846049643, 0.4126501470121756, -0.6601470892145542, -0.7620235104820939, -0.10040239386821737, 1.571398296520149, -0.26490312792810317, 0.6361128608523463, -0.4490985557571813, 0.5093788605397127, 0.47449931464497075, -0.3249801767162292, -0.6503478640781853, 0.6964644254746731, -0.649813251787456, 1.2273734484867544, -1.5028333694329474, 1.2720216213471196, 0.2337659252786213, -0.010981661759603233, -0.38935856096956983, 0.819159393535985, 0.05144642082344833, 0.2585814530664818, -0.23202768900199786, -0.8069998427660221, -1.3258033891378143, -1.072264411375237, -2.812481155968395, 1.6130445993890223, 1.7659929781249923, -0.04990766185036657, 0.8750599230809605, 0.09806855158123486, 0.642688358482892]}, {\"line\": {\"color\": \"rgba(50, 171, 96, 1.0)\", \"dash\": \"solid\", \"shape\": \"linear\", \"width\": 1.3}, \"mode\": \"lines\", \"name\": \"C\", \"text\": \"\", \"type\": \"scatter\", \"x\": [0, 1, 2, 3, 4, 5, 6, 7, 8, 9, 10, 11, 12, 13, 14, 15, 16, 17, 18, 19, 20, 21, 22, 23, 24, 25, 26, 27, 28, 29, 30, 31, 32, 33, 34, 35, 36, 37, 38, 39, 40, 41, 42, 43, 44, 45, 46, 47, 48, 49, 50, 51, 52, 53, 54, 55, 56, 57, 58, 59, 60, 61, 62, 63, 64, 65, 66, 67, 68, 69, 70, 71, 72, 73, 74, 75, 76, 77, 78, 79, 80, 81, 82, 83, 84, 85, 86, 87, 88, 89, 90, 91, 92, 93, 94, 95, 96, 97, 98, 99], \"y\": [-0.4764335487957739, -0.3795971958521806, -0.32080047473824336, 0.9892951338375285, 1.130514375944992, 0.1780627670732518, -1.2440346524414072, -1.9970788406120892, 0.7238472092205793, -0.16385172461275008, -1.647834987793076, -0.43493176375108883, -0.8052880819683181, 0.14628607041823055, 1.1375251156788448, 0.6886767552007255, -0.8665012298307849, -0.10785992072447839, -0.9290168259976029, -0.8794211952884152, -1.6957541459454086, 0.8102692931784256, -0.734314901316168, -0.4863345882886002, 0.7035042577577121, 1.3642458338564403, 0.2619540179153471, 0.09475336562121486, -0.3378585143284306, 1.260632825559378, -0.5255564838826948, -0.5730051837659315, 0.39592309070488635, -0.6070650285295004, -0.29851242876799394, -0.7606939363100149, -0.1760622857637756, 0.41022784146360575, 0.17474141507746163, -0.4856689743738751, -0.49192233167469274, 0.6673243673507168, -0.14537980243660062, -0.11313696976308059, -1.115457938325341, 0.7992072121383466, 0.5251096122314738, -1.2043883316184518, 0.13750165792104693, 0.40295810322611036, 0.43310860945789614, -1.9007527023082584, 1.8362139314935926, -0.514076557765465, -0.3883266658362802, 1.5192685459377073, -1.0641556642603331, -0.49902744347492184, -0.18100028881969799, 0.6270683372590663, 0.004771818389542792, -0.07635862907576754, 0.5028469067076008, 0.00794854406039471, -0.36083911549640085, 0.08217880657240956, -0.3418269920172701, 0.29921614853605505, -0.0434361678175971, -1.4710452099922917, -0.11740541374071864, -0.7152658803700941, -1.802979095325114, 1.7731565353246743, 1.9033884504920582, -0.7987056018292404, -1.4337681633988189, 0.7664886791222912, -1.0331130695132456, -1.2386257355507573, -2.067638776907675, -0.9302475341411064, 1.7969450305496084, 0.5904056319744532, 0.9505160064349767, -0.7892638458218999, 0.545344648215091, 0.524142226279351, -1.9994868632076523, -0.9089618872355718, -0.5782177784156387, -0.20377501773609014, -0.673490666174473, 0.6431925747022802, -0.9814571021958928, -0.011543623559877822, -0.5345522926070283, 0.5466319802390807, -0.44943171173770713, 0.7026929515657784]}, {\"line\": {\"color\": \"rgba(128, 0, 128, 1.0)\", \"dash\": \"solid\", \"shape\": \"linear\", \"width\": 1.3}, \"mode\": \"lines\", \"name\": \"D\", \"text\": \"\", \"type\": \"scatter\", \"x\": [0, 1, 2, 3, 4, 5, 6, 7, 8, 9, 10, 11, 12, 13, 14, 15, 16, 17, 18, 19, 20, 21, 22, 23, 24, 25, 26, 27, 28, 29, 30, 31, 32, 33, 34, 35, 36, 37, 38, 39, 40, 41, 42, 43, 44, 45, 46, 47, 48, 49, 50, 51, 52, 53, 54, 55, 56, 57, 58, 59, 60, 61, 62, 63, 64, 65, 66, 67, 68, 69, 70, 71, 72, 73, 74, 75, 76, 77, 78, 79, 80, 81, 82, 83, 84, 85, 86, 87, 88, 89, 90, 91, 92, 93, 94, 95, 96, 97, 98, 99], \"y\": [-0.8108733386276717, -0.32674402890407467, 1.228706773710295, -0.3591097429962623, -0.5486018885788576, 0.7827564873278484, 0.8053184726769173, -0.6926437004990129, 1.9969984708380815, -0.2605184510597991, 0.15021926472459407, 0.44767435292217866, 1.4046073633781655, -0.26594558514423816, -0.5891922606847505, 0.3247480166766146, 0.11752246126000594, 0.7305957564780715, -0.6359242814882128, 0.7021692456801546, -1.2209582395254233, 0.08454648974933765, 0.4605108009418544, 0.30703791943754666, -0.20023971633193313, 1.0161729538485171, -0.9315079577760803, -0.10405025848648121, 0.24563279174136474, 1.222781994208815, 2.4361366375246187, 0.7266015566825794, 1.2232053714227837, 0.1404099461243569, 1.7194192978370169, -0.36490440349633924, -0.523566199272344, 0.23155106092219366, 1.9003294901653152, -0.3215846596079453, -0.5174787598350311, 0.10571033587829666, -0.12602622731908678, -0.6642724678806, -0.5696788224002025, 0.26055788433591764, -0.6717904493727052, 0.07354790471853982, 0.9549236893625606, -1.4673546576276664, 0.9103156967659057, 0.472537766491254, 0.2446748423864958, 0.9968119622902851, 1.0216465775066863, -0.6894518612168276, -0.08138307160192398, -0.7527711599812614, -1.7318932212106817, 0.16862044058883635, -0.7241531513982364, -0.32052581939975183, -0.4102057066250018, 0.6754798655617502, -0.07557302466458257, 0.4581732404356903, 0.6938961359708578, 0.26413063243496854, 0.6522985089539534, 1.2294074301139584, -0.6695748756586726, -0.802276798659537, -0.13530456386866632, -0.7099021302722817, -0.9038360032361807, -1.5537335366966882, -0.08503274564637163, 1.2401907010404023, -0.020566031072199845, -2.654264469837588, -1.3657453986362798, -0.01873319421953084, -0.37386180411741465, 1.3796397671452991, 1.32750589087681, 1.10278390369056, -0.3753681062826079, 0.012234302734607991, 1.1874207243670505, 0.990411152611453, -0.2798440478619932, 0.41390821587807114, 0.06718097168612086, 0.4810511418209167, 1.9223108018308028, -1.1461884740293269, -0.2103568763845942, -0.4569982457798271, 0.384472849618003, -0.1581628026535627]}],                        {\"legend\": {\"bgcolor\": \"#F5F6F9\", \"font\": {\"color\": \"#4D5663\"}}, \"paper_bgcolor\": \"#F5F6F9\", \"plot_bgcolor\": \"#F5F6F9\", \"template\": {\"data\": {\"bar\": [{\"error_x\": {\"color\": \"#2a3f5f\"}, \"error_y\": {\"color\": \"#2a3f5f\"}, \"marker\": {\"line\": {\"color\": \"#E5ECF6\", \"width\": 0.5}}, \"type\": \"bar\"}], \"barpolar\": [{\"marker\": {\"line\": {\"color\": \"#E5ECF6\", \"width\": 0.5}}, \"type\": \"barpolar\"}], \"carpet\": [{\"aaxis\": {\"endlinecolor\": \"#2a3f5f\", \"gridcolor\": \"white\", \"linecolor\": \"white\", \"minorgridcolor\": \"white\", \"startlinecolor\": \"#2a3f5f\"}, \"baxis\": {\"endlinecolor\": \"#2a3f5f\", \"gridcolor\": \"white\", \"linecolor\": \"white\", \"minorgridcolor\": \"white\", \"startlinecolor\": \"#2a3f5f\"}, \"type\": \"carpet\"}], \"choropleth\": [{\"colorbar\": {\"outlinewidth\": 0, \"ticks\": \"\"}, \"type\": \"choropleth\"}], \"contour\": [{\"colorbar\": {\"outlinewidth\": 0, \"ticks\": \"\"}, \"colorscale\": [[0.0, \"#0d0887\"], [0.1111111111111111, \"#46039f\"], [0.2222222222222222, \"#7201a8\"], [0.3333333333333333, \"#9c179e\"], [0.4444444444444444, \"#bd3786\"], [0.5555555555555556, \"#d8576b\"], [0.6666666666666666, \"#ed7953\"], [0.7777777777777778, \"#fb9f3a\"], [0.8888888888888888, \"#fdca26\"], [1.0, \"#f0f921\"]], \"type\": \"contour\"}], \"contourcarpet\": [{\"colorbar\": {\"outlinewidth\": 0, \"ticks\": \"\"}, \"type\": \"contourcarpet\"}], \"heatmap\": [{\"colorbar\": {\"outlinewidth\": 0, \"ticks\": \"\"}, \"colorscale\": [[0.0, \"#0d0887\"], [0.1111111111111111, \"#46039f\"], [0.2222222222222222, \"#7201a8\"], [0.3333333333333333, \"#9c179e\"], [0.4444444444444444, \"#bd3786\"], [0.5555555555555556, \"#d8576b\"], [0.6666666666666666, \"#ed7953\"], [0.7777777777777778, \"#fb9f3a\"], [0.8888888888888888, \"#fdca26\"], [1.0, \"#f0f921\"]], \"type\": \"heatmap\"}], \"heatmapgl\": [{\"colorbar\": {\"outlinewidth\": 0, \"ticks\": \"\"}, \"colorscale\": [[0.0, \"#0d0887\"], [0.1111111111111111, \"#46039f\"], [0.2222222222222222, \"#7201a8\"], [0.3333333333333333, \"#9c179e\"], [0.4444444444444444, \"#bd3786\"], [0.5555555555555556, \"#d8576b\"], [0.6666666666666666, \"#ed7953\"], [0.7777777777777778, \"#fb9f3a\"], [0.8888888888888888, \"#fdca26\"], [1.0, \"#f0f921\"]], \"type\": \"heatmapgl\"}], \"histogram\": [{\"marker\": {\"colorbar\": {\"outlinewidth\": 0, \"ticks\": \"\"}}, \"type\": \"histogram\"}], \"histogram2d\": [{\"colorbar\": {\"outlinewidth\": 0, \"ticks\": \"\"}, \"colorscale\": [[0.0, \"#0d0887\"], [0.1111111111111111, \"#46039f\"], [0.2222222222222222, \"#7201a8\"], [0.3333333333333333, \"#9c179e\"], [0.4444444444444444, \"#bd3786\"], [0.5555555555555556, \"#d8576b\"], [0.6666666666666666, \"#ed7953\"], [0.7777777777777778, \"#fb9f3a\"], [0.8888888888888888, \"#fdca26\"], [1.0, \"#f0f921\"]], \"type\": \"histogram2d\"}], \"histogram2dcontour\": [{\"colorbar\": {\"outlinewidth\": 0, \"ticks\": \"\"}, \"colorscale\": [[0.0, \"#0d0887\"], [0.1111111111111111, \"#46039f\"], [0.2222222222222222, \"#7201a8\"], [0.3333333333333333, \"#9c179e\"], [0.4444444444444444, \"#bd3786\"], [0.5555555555555556, \"#d8576b\"], [0.6666666666666666, \"#ed7953\"], [0.7777777777777778, \"#fb9f3a\"], [0.8888888888888888, \"#fdca26\"], [1.0, \"#f0f921\"]], \"type\": \"histogram2dcontour\"}], \"mesh3d\": [{\"colorbar\": {\"outlinewidth\": 0, \"ticks\": \"\"}, \"type\": \"mesh3d\"}], \"parcoords\": [{\"line\": {\"colorbar\": {\"outlinewidth\": 0, \"ticks\": \"\"}}, \"type\": \"parcoords\"}], \"pie\": [{\"automargin\": true, \"type\": \"pie\"}], \"scatter\": [{\"marker\": {\"colorbar\": {\"outlinewidth\": 0, \"ticks\": \"\"}}, \"type\": \"scatter\"}], \"scatter3d\": [{\"line\": {\"colorbar\": {\"outlinewidth\": 0, \"ticks\": \"\"}}, \"marker\": {\"colorbar\": {\"outlinewidth\": 0, \"ticks\": \"\"}}, \"type\": \"scatter3d\"}], \"scattercarpet\": [{\"marker\": {\"colorbar\": {\"outlinewidth\": 0, \"ticks\": \"\"}}, \"type\": \"scattercarpet\"}], \"scattergeo\": [{\"marker\": {\"colorbar\": {\"outlinewidth\": 0, \"ticks\": \"\"}}, \"type\": \"scattergeo\"}], \"scattergl\": [{\"marker\": {\"colorbar\": {\"outlinewidth\": 0, \"ticks\": \"\"}}, \"type\": \"scattergl\"}], \"scattermapbox\": [{\"marker\": {\"colorbar\": {\"outlinewidth\": 0, \"ticks\": \"\"}}, \"type\": \"scattermapbox\"}], \"scatterpolar\": [{\"marker\": {\"colorbar\": {\"outlinewidth\": 0, \"ticks\": \"\"}}, \"type\": \"scatterpolar\"}], \"scatterpolargl\": [{\"marker\": {\"colorbar\": {\"outlinewidth\": 0, \"ticks\": \"\"}}, \"type\": \"scatterpolargl\"}], \"scatterternary\": [{\"marker\": {\"colorbar\": {\"outlinewidth\": 0, \"ticks\": \"\"}}, \"type\": \"scatterternary\"}], \"surface\": [{\"colorbar\": {\"outlinewidth\": 0, \"ticks\": \"\"}, \"colorscale\": [[0.0, \"#0d0887\"], [0.1111111111111111, \"#46039f\"], [0.2222222222222222, \"#7201a8\"], [0.3333333333333333, \"#9c179e\"], [0.4444444444444444, \"#bd3786\"], [0.5555555555555556, \"#d8576b\"], [0.6666666666666666, \"#ed7953\"], [0.7777777777777778, \"#fb9f3a\"], [0.8888888888888888, \"#fdca26\"], [1.0, \"#f0f921\"]], \"type\": \"surface\"}], \"table\": [{\"cells\": {\"fill\": {\"color\": \"#EBF0F8\"}, \"line\": {\"color\": \"white\"}}, \"header\": {\"fill\": {\"color\": \"#C8D4E3\"}, \"line\": {\"color\": \"white\"}}, \"type\": \"table\"}]}, \"layout\": {\"annotationdefaults\": {\"arrowcolor\": \"#2a3f5f\", \"arrowhead\": 0, \"arrowwidth\": 1}, \"autotypenumbers\": \"strict\", \"coloraxis\": {\"colorbar\": {\"outlinewidth\": 0, \"ticks\": \"\"}}, \"colorscale\": {\"diverging\": [[0, \"#8e0152\"], [0.1, \"#c51b7d\"], [0.2, \"#de77ae\"], [0.3, \"#f1b6da\"], [0.4, \"#fde0ef\"], [0.5, \"#f7f7f7\"], [0.6, \"#e6f5d0\"], [0.7, \"#b8e186\"], [0.8, \"#7fbc41\"], [0.9, \"#4d9221\"], [1, \"#276419\"]], \"sequential\": [[0.0, \"#0d0887\"], [0.1111111111111111, \"#46039f\"], [0.2222222222222222, \"#7201a8\"], [0.3333333333333333, \"#9c179e\"], [0.4444444444444444, \"#bd3786\"], [0.5555555555555556, \"#d8576b\"], [0.6666666666666666, \"#ed7953\"], [0.7777777777777778, \"#fb9f3a\"], [0.8888888888888888, \"#fdca26\"], [1.0, \"#f0f921\"]], \"sequentialminus\": [[0.0, \"#0d0887\"], [0.1111111111111111, \"#46039f\"], [0.2222222222222222, \"#7201a8\"], [0.3333333333333333, \"#9c179e\"], [0.4444444444444444, \"#bd3786\"], [0.5555555555555556, \"#d8576b\"], [0.6666666666666666, \"#ed7953\"], [0.7777777777777778, \"#fb9f3a\"], [0.8888888888888888, \"#fdca26\"], [1.0, \"#f0f921\"]]}, \"colorway\": [\"#636efa\", \"#EF553B\", \"#00cc96\", \"#ab63fa\", \"#FFA15A\", \"#19d3f3\", \"#FF6692\", \"#B6E880\", \"#FF97FF\", \"#FECB52\"], \"font\": {\"color\": \"#2a3f5f\"}, \"geo\": {\"bgcolor\": \"white\", \"lakecolor\": \"white\", \"landcolor\": \"#E5ECF6\", \"showlakes\": true, \"showland\": true, \"subunitcolor\": \"white\"}, \"hoverlabel\": {\"align\": \"left\"}, \"hovermode\": \"closest\", \"mapbox\": {\"style\": \"light\"}, \"paper_bgcolor\": \"white\", \"plot_bgcolor\": \"#E5ECF6\", \"polar\": {\"angularaxis\": {\"gridcolor\": \"white\", \"linecolor\": \"white\", \"ticks\": \"\"}, \"bgcolor\": \"#E5ECF6\", \"radialaxis\": {\"gridcolor\": \"white\", \"linecolor\": \"white\", \"ticks\": \"\"}}, \"scene\": {\"xaxis\": {\"backgroundcolor\": \"#E5ECF6\", \"gridcolor\": \"white\", \"gridwidth\": 2, \"linecolor\": \"white\", \"showbackground\": true, \"ticks\": \"\", \"zerolinecolor\": \"white\"}, \"yaxis\": {\"backgroundcolor\": \"#E5ECF6\", \"gridcolor\": \"white\", \"gridwidth\": 2, \"linecolor\": \"white\", \"showbackground\": true, \"ticks\": \"\", \"zerolinecolor\": \"white\"}, \"zaxis\": {\"backgroundcolor\": \"#E5ECF6\", \"gridcolor\": \"white\", \"gridwidth\": 2, \"linecolor\": \"white\", \"showbackground\": true, \"ticks\": \"\", \"zerolinecolor\": \"white\"}}, \"shapedefaults\": {\"line\": {\"color\": \"#2a3f5f\"}}, \"ternary\": {\"aaxis\": {\"gridcolor\": \"white\", \"linecolor\": \"white\", \"ticks\": \"\"}, \"baxis\": {\"gridcolor\": \"white\", \"linecolor\": \"white\", \"ticks\": \"\"}, \"bgcolor\": \"#E5ECF6\", \"caxis\": {\"gridcolor\": \"white\", \"linecolor\": \"white\", \"ticks\": \"\"}}, \"title\": {\"x\": 0.05}, \"xaxis\": {\"automargin\": true, \"gridcolor\": \"white\", \"linecolor\": \"white\", \"ticks\": \"\", \"title\": {\"standoff\": 15}, \"zerolinecolor\": \"white\", \"zerolinewidth\": 2}, \"yaxis\": {\"automargin\": true, \"gridcolor\": \"white\", \"linecolor\": \"white\", \"ticks\": \"\", \"title\": {\"standoff\": 15}, \"zerolinecolor\": \"white\", \"zerolinewidth\": 2}}}, \"title\": {\"font\": {\"color\": \"#4D5663\"}}, \"xaxis\": {\"gridcolor\": \"#E1E5ED\", \"showgrid\": true, \"tickfont\": {\"color\": \"#4D5663\"}, \"title\": {\"font\": {\"color\": \"#4D5663\"}, \"text\": \"\"}, \"zerolinecolor\": \"#E1E5ED\"}, \"yaxis\": {\"gridcolor\": \"#E1E5ED\", \"showgrid\": true, \"tickfont\": {\"color\": \"#4D5663\"}, \"title\": {\"font\": {\"color\": \"#4D5663\"}, \"text\": \"\"}, \"zerolinecolor\": \"#E1E5ED\"}},                        {\"showLink\": true, \"linkText\": \"Export to plot.ly\", \"plotlyServerURL\": \"https://plot.ly\", \"responsive\": true}                    ).then(function(){\n",
       "                            \n",
       "var gd = document.getElementById('df8cdba2-c8f0-4b90-ab27-4e28a355cd38');\n",
       "var x = new MutationObserver(function (mutations, observer) {{\n",
       "        var display = window.getComputedStyle(gd).display;\n",
       "        if (!display || display === 'none') {{\n",
       "            console.log([gd, 'removed!']);\n",
       "            Plotly.purge(gd);\n",
       "            observer.disconnect();\n",
       "        }}\n",
       "}});\n",
       "\n",
       "// Listen for the removal of the full notebook cells\n",
       "var notebookContainer = gd.closest('#notebook-container');\n",
       "if (notebookContainer) {{\n",
       "    x.observe(notebookContainer, {childList: true});\n",
       "}}\n",
       "\n",
       "// Listen for the clearing of the current output cell\n",
       "var outputEl = gd.closest('.output');\n",
       "if (outputEl) {{\n",
       "    x.observe(outputEl, {childList: true});\n",
       "}}\n",
       "\n",
       "                        })                };                });            </script>        </div>"
      ]
     },
     "metadata": {},
     "output_type": "display_data"
    }
   ],
   "source": [
    "df.iplot()"
   ]
  },
  {
   "cell_type": "code",
   "execution_count": null,
   "id": "1f354198-9b2c-4fc5-aaac-34cf84be7f8a",
   "metadata": {},
   "outputs": [],
   "source": []
  }
 ],
 "metadata": {
  "kernelspec": {
   "display_name": "Python 3",
   "language": "python",
   "name": "python3"
  },
  "language_info": {
   "codemirror_mode": {
    "name": "ipython",
    "version": 3
   },
   "file_extension": ".py",
   "mimetype": "text/x-python",
   "name": "python",
   "nbconvert_exporter": "python",
   "pygments_lexer": "ipython3",
   "version": "3.9.5"
  }
 },
 "nbformat": 4,
 "nbformat_minor": 5
}
